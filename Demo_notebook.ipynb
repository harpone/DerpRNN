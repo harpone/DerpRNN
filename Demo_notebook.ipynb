{
 "cells": [
  {
   "cell_type": "markdown",
   "metadata": {
    "collapsed": true
   },
   "source": [
    "# Demo notebook\n",
    "### Containing text and polyphonic music generation examples"
   ]
  },
  {
   "cell_type": "markdown",
   "metadata": {},
   "source": [
    "#### First some imports:"
   ]
  },
  {
   "cell_type": "code",
   "execution_count": 1,
   "metadata": {
    "collapsed": false
   },
   "outputs": [
    {
     "name": "stderr",
     "output_type": "stream",
     "text": [
      "Using gpu device 0: GeForce GTX 980 (CNMeM is disabled)\n"
     ]
    }
   ],
   "source": [
    "# imports:\n",
    "from __future__ import division, print_function\n",
    "import numpy as np\n",
    "import matplotlib.pyplot as plt\n",
    "import theano\n",
    "import os\n",
    "import sys\n",
    "import pickle\n",
    "\n",
    "from theano import tensor as T\n",
    "\n",
    "from models.deeprnn import DeepRNN\n",
    "from utils.utils import process_dataset\n",
    "\n",
    "plot = plt.plot\n",
    "\n",
    "%load_ext Cython\n",
    "%load_ext autoreload\n",
    "%autoreload 2\n",
    "\n",
    "%matplotlib inline"
   ]
  },
  {
   "cell_type": "markdown",
   "metadata": {},
   "source": [
    "# Text"
   ]
  },
  {
   "cell_type": "code",
   "execution_count": 5,
   "metadata": {
    "collapsed": false
   },
   "outputs": [
    {
     "name": "stdout",
     "output_type": "stream",
     "text": [
      "corpus length: 600901\n",
      "total chars: 49\n"
     ]
    }
   ],
   "source": [
    "# form a dictionary between characters and vectors (this is from Keras):\n",
    "from keras.datasets.data_utils import get_file\n",
    "\n",
    "path = get_file('nietzsche.txt', origin=\"https://s3.amazonaws.com/text-datasets/nietzsche.txt\")\n",
    "text = open(path).read().lower()\n",
    "print('corpus length:', len(text))\n",
    "\n",
    "chars = set(text)\n",
    "\n",
    "stripped_chars = {'\\n',' ','!','\"',\"'\",'(',')',',','-','.','0','1','2',\n",
    "                  '3','4','5','6','7','8','9',':',';','?','a','b','c','d',\n",
    "                  'e','f','g','h','i','j','k','l','m','n','o','p','q','r',\n",
    "                  's','t','u','v','w','x','y','z'}\n",
    "\n",
    "print('total chars:', len(stripped_chars))\n",
    "\n",
    "\n",
    "char_indices = dict((c, i) for i, c in enumerate(stripped_chars))\n",
    "indices_char = dict((i, c) for i, c in enumerate(stripped_chars))\n",
    "\n",
    "dataset = np.zeros((len(text), len(stripped_chars)), dtype=theano.config.floatX)\n",
    "for t, char in enumerate(text):\n",
    "    if char in stripped_chars:\n",
    "        dataset[t, char_indices[char]] = 1\n",
    "\n",
    "text_recon = ''\n",
    "for row in dataset:\n",
    "    idx = np.argmax(row)\n",
    "    text_recon += indices_char[idx]\n",
    "    \n",
    "text_file = open(\"nietzsche_recon.txt\", \"w\")\n",
    "text_file.write(text_recon)\n",
    "text_file.close()"
   ]
  },
  {
   "cell_type": "code",
   "execution_count": 6,
   "metadata": {
    "collapsed": false
   },
   "outputs": [
    {
     "name": "stdout",
     "output_type": "stream",
     "text": [
      "Loading parameters from file saved_model_parameters/text_5_10_m0.016.save\n"
     ]
    }
   ],
   "source": [
    "# load trained parameters:\n",
    "state = 'saved_model_parameters/text_5_10_m0.016'\n",
    "n_visible = dataset.shape[1]\n",
    "\n",
    "# Instatiate model:\n",
    "model = DeepRNN(depth=5,\n",
    "                 width=10,\n",
    "                 readout_width=1,\n",
    "                 readin_layer='tanh',\n",
    "                 rnn_layer='gru',\n",
    "                 readout_layer='softmax',\n",
    "                 n_visible=n_visible,\n",
    "                 optimizer='adadelta',\n",
    "                 state_from_file=state,  # set this to 'None' if you want to train from scratch\n",
    "                 sparsity=1.,\n",
    "                 readin_input_scale=2.,\n",
    "                 recurrence_spectral_radius=1.2,\n",
    "                 recurrence_input_scale=1.,\n",
    "                 readout_scale=1.,\n",
    "                 dropout=0.,\n",
    "                 input_dropout=0.,\n",
    "                 input_noise=0.)"
   ]
  },
  {
   "cell_type": "markdown",
   "metadata": {},
   "source": [
    "Train the model by using the cell below, if you want. However, the model is already fully trained so you can just skip that one.\n",
    "\n",
    "It is in general a good idea to start with learning rate (lr) equal to 1 and then use e.g. 0.1 for fine tuning (even though the optimizer is Adadelta). I also usually start with small batch sizes and then increase those to around 100-200 in later stages. Note that there's and `min_batch_size` and `max_batch_size`, which simply means that the actual batch size varies randomly between those (the idea is to increase the \"stochasticity\" in SGD, although it's probably not very important). `gamma` is an Adadelta parameter. Hit `ctrl+c` when you've trained enough."
   ]
  },
  {
   "cell_type": "code",
   "execution_count": 8,
   "metadata": {
    "collapsed": false
   },
   "outputs": [
    {
     "name": "stdout",
     "output_type": "stream",
     "text": [
      "Sample:      1/1 -- Progress:   0% -- Cost= 0.026 -- Monitor= 0.026\n",
      "Interrupted by user.\n"
     ]
    }
   ],
   "source": [
    "model.train(dataset, \n",
    "            lr=.1,                     \n",
    "            min_batch_size=100,                 \n",
    "            max_batch_size=250, \n",
    "            num_epochs=1000, \n",
    "            save_as=state,\n",
    "            gamma=.95)                 "
   ]
  },
  {
   "cell_type": "markdown",
   "metadata": {},
   "source": [
    "Then we can generate some samples. Feel free to change the `initial_data` string to whatever you want (just remember to use the allowed characters only, i.e. no upper case letters etc.). \n",
    "\n",
    "`timesteps` indicates the number of characters generated. Feel free to use larger numbers. The generation is done by `theano.scan`, so it's quite fast even for longer text."
   ]
  },
  {
   "cell_type": "code",
   "execution_count": 9,
   "metadata": {
    "collapsed": false
   },
   "outputs": [
    {
     "name": "stdout",
     "output_type": "stream",
     "text": [
      "how many philosophers does it take to change a light bulb? and\n",
      "equality constraintly, the shattering and period. we should really be the right\n",
      "out of effect perhaps be two kinds of consrious willing under which it we\n",
      "feels whatever others into a berm disguise (namely, science has\n",
      "as ivensued in any organic and isolated its associated with which\n",
      "every one worse, winced and possessing the more into any brought\n",
      "and fastidious sensus assumes that, slowly, an\n"
     ]
    }
   ],
   "source": [
    "initial_str = 'how many philosophers does it take to change a light bulb?'\n",
    "\n",
    "initial_data = np.zeros((len(initial_str), len(stripped_chars)), dtype=theano.config.floatX)\n",
    "\n",
    "for t, char in enumerate(initial_str):\n",
    "    if char in stripped_chars:\n",
    "        initial_data[t, char_indices[char]] = 1\n",
    "\n",
    "generated = model.generate(timesteps=400, \n",
    "               initial_data=initial_data)\n",
    "\n",
    "generated_text = ''\n",
    "\n",
    "for row in generated:\n",
    "    idx = np.argmax(row)\n",
    "    generated_text += indices_char[idx]\n",
    "    \n",
    "print(generated_text)"
   ]
  },
  {
   "cell_type": "markdown",
   "metadata": {},
   "source": [
    "#### Post training analysis:"
   ]
  },
  {
   "cell_type": "markdown",
   "metadata": {},
   "source": [
    "We can check everything's OK with the model by outputting the recurrent hidden unit values as we feed in the input with the `generate_hidden_states` method like this:"
   ]
  },
  {
   "cell_type": "code",
   "execution_count": 10,
   "metadata": {
    "collapsed": false
   },
   "outputs": [
    {
     "data": {
      "text/plain": [
       "(5, 58, 490)"
      ]
     },
     "execution_count": 10,
     "metadata": {},
     "output_type": "execute_result"
    }
   ],
   "source": [
    "hidden_dynamics = model.generate_hidden_states(initial_data, 0., 1.)\n",
    "hidden_dynamics.shape"
   ]
  },
  {
   "cell_type": "markdown",
   "metadata": {},
   "source": [
    "The shape of the `hidden_dynamics` is `(depth, n_visible, n_hidden_recurrent)`. Then we can just plot what goes on e.g. in the last layer:"
   ]
  },
  {
   "cell_type": "code",
   "execution_count": 12,
   "metadata": {
    "collapsed": false
   },
   "outputs": [
    {
     "data": {
      "text/plain": [
       "<matplotlib.collections.PolyCollection at 0x7fd2e68549d0>"
      ]
     },
     "execution_count": 12,
     "metadata": {},
     "output_type": "execute_result"
    },
    {
     "data": {
      "image/png": "[encoded data removed]",
      "text/plain": [
       "<matplotlib.figure.Figure at 0x7fd2ea75a590>"
      ]
     },
     "metadata": {},
     "output_type": "display_data"
    }
   ],
   "source": [
    "plt.pcolor(hidden_dynamics[-1][:, 0:].T, vmin=-1, vmax=1)"
   ]
  },
  {
   "cell_type": "markdown",
   "metadata": {},
   "source": [
    "The red and blue colors indicate that there's lots of activity in neurons ~200 and above, while the neurons ~100 and below seem to change only slowly. This is actually intentional, as I initialized the GRU update gate biases to be `linspace(-5, 5, n_hidden_recurrent)`. The point is to \"encourage\" some neurons to update only slowly, so that the model would perform better at capturing long term dependencies. I basically improvised a bit based on the usual method of inintializing LSTM networks with biases around -5 (see e.g. Schmidhuber et al. CW-RNN paper http://arxiv.org/pdf/1402.3511.pdf), but I wanted some of the neurons to alse remain \"fast\". Haven't done any real benchmarks to verify that this would improve the end results, but it seemed to do so...\n",
    "\n",
    "Anyway, the last layer shows rich activity, which is important. For bad initialization parameters and after some learning, it could happen that the last layer activity just settles into an equilibrium state, which would mean that the signal is not being passed to the readout layer. This can especially happen if the readout is the RBM layer. Plotting the highest layer activity is a good way to check if that happens!"
   ]
  },
  {
   "cell_type": "markdown",
   "metadata": {},
   "source": [
    "# Music"
   ]
  },
  {
   "cell_type": "code",
   "execution_count": 41,
   "metadata": {
    "collapsed": false,
    "scrolled": true
   },
   "outputs": [
    {
     "name": "stdout",
     "output_type": "stream",
     "text": [
      "File saved as classics.npz\n"
     ]
    }
   ],
   "source": [
    "# process data (will create a classics.npz file in the project root):\n",
    "data_path = \"./midi_data/\"\n",
    "\n",
    "dataset_temp = process_dataset(data_path, outname='classics')"
   ]
  },
  {
   "cell_type": "code",
   "execution_count": 20,
   "metadata": {
    "collapsed": false
   },
   "outputs": [],
   "source": [
    "# load the .npz file and drop short songs:\n",
    "dataset = np.load('classics.npz')['arr_0'].tolist()\n",
    "\n",
    "new_dataset = []\n",
    "\n",
    "for n, song in enumerate(dataset):\n",
    "    if len(song) > 100:\n",
    "        new_dataset.append(song)\n",
    "        \n",
    "dataset = new_dataset\n",
    "\n",
    "# I actually trained with a slightly smaller dataset:\n",
    "dataset = dataset[0:50]"
   ]
  },
  {
   "cell_type": "code",
   "execution_count": 21,
   "metadata": {
    "collapsed": false
   },
   "outputs": [
    {
     "name": "stdout",
     "output_type": "stream",
     "text": [
      "Loading parameters from file saved_model_parameters/all_noninvariant_5_5_m0.037.save\n"
     ]
    }
   ],
   "source": [
    "# instantiate model:\n",
    "# note that convergence of training is pretty sensitive to the initial values...\n",
    "# I should work on those a bit more...\n",
    "loaded_state = 'saved_model_parameters/all_noninvariant_5_5_m0.037'\n",
    "state = 'all_noninvariant_5_5'\n",
    "\n",
    "n_visible = dataset[0].shape[1]\n",
    "\n",
    "model = DeepRNN(depth=5,\n",
    "                 width=5,\n",
    "                 readout_width=1,\n",
    "                 readin_layer='tanh',\n",
    "                 rnn_layer='gru',\n",
    "                 readout_layer='rbm',\n",
    "                 n_visible=n_visible,\n",
    "                 optimizer='adadelta',\n",
    "                 state_from_file=loaded_state,\n",
    "                 sparsity=.2,\n",
    "                 readin_input_scale=2.,\n",
    "                 recurrence_spectral_radius=1.2,\n",
    "                 recurrence_input_scale=2.,\n",
    "                 readout_scale=11,  # this is pretty important for convergence of training!\n",
    "                 dropout=0.,\n",
    "                 input_dropout=0.,\n",
    "                 input_noise=0.005)"
   ]
  },
  {
   "cell_type": "code",
   "execution_count": null,
   "metadata": {
    "collapsed": true
   },
   "outputs": [],
   "source": [
    "# Training as usual. Skip if you just want to evaluate!\n",
    "model.train(dataset, \n",
    "            lr=.1,                     # .1 or 1. !!!\n",
    "            min_batch_size=100,                 \n",
    "            max_batch_size=250, \n",
    "            num_epochs=100, \n",
    "            save_as=state,\n",
    "            gamma=.95)                 # .9 or .99 !!!"
   ]
  },
  {
   "cell_type": "markdown",
   "metadata": {},
   "source": [
    "Now we can generate some music. The script below will create a file called 'gru_sample.mid'\n",
    "in the project root. You can use e.g. the VLC player to play the midi data.\n",
    "\n",
    "The `generate` method will also plot a \"piano roll\" of the generated song, with the x-axis showing the timestep and y-axis the note played."
   ]
  },
  {
   "cell_type": "code",
   "execution_count": 26,
   "metadata": {
    "collapsed": false
   },
   "outputs": [
    {
     "data": {
      "image/png": "[encoded data removed]",
      "text/plain": [
       "<matplotlib.figure.Figure at 0x7fd2d47009d0>"
      ]
     },
     "metadata": {},
     "output_type": "display_data"
    }
   ],
   "source": [
    "# use these if you want to generate from a seed:\n",
    "init_time = 40\n",
    "initial_data = dataset[3][0:0 + init_time]\n",
    "\n",
    "# starting from no seed:\n",
    "model.generate('gru_sample', \n",
    "               timesteps=1000,\n",
    "               initial_data=None)"
   ]
  },
  {
   "cell_type": "markdown",
   "metadata": {},
   "source": [
    "Just as a demo of post training analysis, let's look at the spectrum of the last layer hidden recurrent weight W:"
   ]
  },
  {
   "cell_type": "code",
   "execution_count": 39,
   "metadata": {
    "collapsed": false
   },
   "outputs": [
    {
     "data": {
      "text/plain": [
       "<matplotlib.axes._subplots.AxesSubplot at 0x7fd2d06a2e50>"
      ]
     },
     "execution_count": 39,
     "metadata": {},
     "output_type": "execute_result"
    },
    {
     "data": {
      "image/png": "[encoded data removed]",
      "text/plain": [
       "<matplotlib.figure.Figure at 0x7fd2d0849cd0>"
      ]
     },
     "metadata": {},
     "output_type": "display_data"
    }
   ],
   "source": [
    "import pandas as pd  # just for convenience...\n",
    "\n",
    "Wmat = model.parameters[2][-1][:5 * n_visible, :5 * n_visible].eval()\n",
    "\n",
    "eigvals = np.linalg.eigvals(Wmat)\n",
    "eigs_re, eigs_im = eigvals.real, eigvals.imag\n",
    "eigs_as_vec = np.concatenate((eigs_re[:, None], eigs_im[:, None]), axis=1)\n",
    "eigs_df = pd.DataFrame(eigs_as_vec)\n",
    "\n",
    "#eigs_df.plot(kind='hexbin', x=0, y=1, gridsize=20)\n",
    "eigs_df.plot(kind='scatter', x=0, y=1, figsize=(8, 8))"
   ]
  },
  {
   "cell_type": "markdown",
   "metadata": {},
   "source": [
    "Initially we had `recurrence_spectral_radius=1.2`, which is just the distance of the largest absolute eigenvalue of the matrix `Wmat` from the origin. The inital spectrum is then random uniform inside this radius. We see that the spectrum has evolved into a slightly different shape in every layer.\n",
    "\n",
    "Anyway, can't think of anything more at the moment, so that's all for now!\n",
    "\n",
    "So you read this far? Great! Let me know if you get some interesting results using this little module :)"
   ]
  },
  {
   "cell_type": "code",
   "execution_count": null,
   "metadata": {
    "collapsed": true
   },
   "outputs": [],
   "source": []
  }
 ],
 "metadata": {
  "kernelspec": {
   "display_name": "Python 2",
   "language": "python",
   "name": "python2"
  },
  "language_info": {
   "codemirror_mode": {
    "name": "ipython",
    "version": 2
   },
   "file_extension": ".py",
   "mimetype": "text/x-python",
   "name": "python",
   "nbconvert_exporter": "python",
   "pygments_lexer": "ipython2",
   "version": "2.7.9"
  }
 },
 "nbformat": 4,
 "nbformat_minor": 0
}
